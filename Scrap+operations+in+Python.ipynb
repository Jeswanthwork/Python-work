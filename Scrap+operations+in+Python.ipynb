{
 "cells": [
  {
   "cell_type": "code",
   "execution_count": 2,
   "metadata": {},
   "outputs": [
    {
     "name": "stdout",
     "output_type": "stream",
     "text": [
      "waht is your name Rahul\n"
     ]
    }
   ],
   "source": [
    "name = input(\"waht is your name \")"
   ]
  },
  {
   "cell_type": "code",
   "execution_count": 3,
   "metadata": {},
   "outputs": [
    {
     "name": "stdout",
     "output_type": "stream",
     "text": [
      "hello Rahul\n"
     ]
    }
   ],
   "source": [
    "print(\"hello\",name)"
   ]
  },
  {
   "cell_type": "code",
   "execution_count": 16,
   "metadata": {
    "collapsed": true
   },
   "outputs": [],
   "source": [
    "miles = input(\"enter miles \")\n",
    "miles = int(miles)\n",
    "kilometers = miles * 1.60934\n",
    "print(\"{} miles equals {}\".format(miles,kilometers))"
   ]
  },
  {
   "cell_type": "code",
   "execution_count": 33,
   "metadata": {},
   "outputs": [
    {
     "name": "stdout",
     "output_type": "stream",
     "text": [
      "enter calculation 5+4\n"
     ]
    },
    {
     "ename": "ValueError",
     "evalue": "not enough values to unpack (expected 3, got 1)",
     "output_type": "error",
     "traceback": [
      "\u001b[1;31m---------------------------------------------------------------------------\u001b[0m",
      "\u001b[1;31mValueError\u001b[0m                                Traceback (most recent call last)",
      "\u001b[1;32m<ipython-input-33-2e918c1d6f1d>\u001b[0m in \u001b[0;36m<module>\u001b[1;34m()\u001b[0m\n\u001b[1;32m----> 1\u001b[1;33m \u001b[0mnum1\u001b[0m\u001b[1;33m,\u001b[0m \u001b[0moperator\u001b[0m\u001b[1;33m,\u001b[0m \u001b[0mnum2\u001b[0m \u001b[1;33m=\u001b[0m \u001b[0minput\u001b[0m\u001b[1;33m(\u001b[0m\u001b[1;34m\"enter calculation \"\u001b[0m\u001b[1;33m)\u001b[0m\u001b[1;33m.\u001b[0m\u001b[0msplit\u001b[0m\u001b[1;33m(\u001b[0m\u001b[1;33m)\u001b[0m\u001b[1;33m\u001b[0m\u001b[0m\n\u001b[0m",
      "\u001b[1;31mValueError\u001b[0m: not enough values to unpack (expected 3, got 1)"
     ]
    }
   ],
   "source": [
    "num1, operator, num2 = input(\"enter calculation \").split()"
   ]
  },
  {
   "cell_type": "code",
   "execution_count": 32,
   "metadata": {
    "collapsed": true
   },
   "outputs": [],
   "source": [
    "num1 =int(num1)\n",
    "num2 =int(num2)"
   ]
  },
  {
   "cell_type": "code",
   "execution_count": 29,
   "metadata": {},
   "outputs": [
    {
     "ename": "SyntaxError",
     "evalue": "invalid syntax (<ipython-input-29-fe46a6a52e4e>, line 9)",
     "output_type": "error",
     "traceback": [
      "\u001b[1;36m  File \u001b[1;32m\"<ipython-input-29-fe46a6a52e4e>\"\u001b[1;36m, line \u001b[1;32m9\u001b[0m\n\u001b[1;33m    else\u001b[0m\n\u001b[1;37m        ^\u001b[0m\n\u001b[1;31mSyntaxError\u001b[0m\u001b[1;31m:\u001b[0m invalid syntax\n"
     ]
    }
   ],
   "source": [
    "if operator ==\"+\":\n",
    "    print(\"{} + {} = {}\".format (num1, num2,num1+num2))\n",
    "elif operator == \"-\":\n",
    "    print(\"{} - {} = {}\".format (num1, num2,num1-num2))\n",
    "elif operator == \"*\":\n",
    "    print(\"{} * {} = {}\".format (num1, num2,num1*num2))\n",
    "elif operator == \"/\":\n",
    "    print(\"{} / {} = {}\".format (num1, num2,num1/num2))\n",
    "else\n",
    "    print(\"use either + - * or / next time\")"
   ]
  },
  {
   "cell_type": "code",
   "execution_count": 3,
   "metadata": {},
   "outputs": [
    {
     "name": "stdout",
     "output_type": "stream",
     "text": [
      "enter age: 62\n"
     ]
    }
   ],
   "source": [
    "age = eval(input(\"enter age: \" ))"
   ]
  },
  {
   "cell_type": "code",
   "execution_count": 4,
   "metadata": {},
   "outputs": [
    {
     "name": "stdout",
     "output_type": "stream",
     "text": [
      "not imp\n"
     ]
    }
   ],
   "source": [
    "if (age >=1) and (age<= 18):\n",
    "    print(\"Imp\")\n",
    "elif (age ==21) or (age==50):\n",
    "    print(\"Imp\")\n",
    "else:\n",
    "    print(\"not imp\")"
   ]
  },
  {
   "cell_type": "code",
   "execution_count": 20,
   "metadata": {},
   "outputs": [
    {
     "name": "stdout",
     "output_type": "stream",
     "text": [
      " enter age: 6\n"
     ]
    }
   ],
   "source": [
    "# My work on age example\n",
    "age =eval(input(\" enter age: \"))"
   ]
  },
  {
   "cell_type": "code",
   "execution_count": 21,
   "metadata": {},
   "outputs": [
    {
     "name": "stdout",
     "output_type": "stream",
     "text": [
      "goes to 1 through 12 grade\n"
     ]
    }
   ],
   "source": [
    "if (age==5):\n",
    "    print(\"go to kindergarten\")\n",
    "elif(age >5) and (age<=17):\n",
    "    print(\"goes to 1 through 12 grade\")\n",
    "if (age >=17):\n",
    "    print(\"goes to college\")\n"
   ]
  },
  {
   "cell_type": "code",
   "execution_count": 26,
   "metadata": {},
   "outputs": [
    {
     "name": "stdout",
     "output_type": "stream",
     "text": [
      "i= 0\n",
      "i= 1\n",
      "i= 2\n",
      "i= 3\n",
      "i= 4\n",
      "i= 5\n",
      "i= 6\n",
      "i= 7\n",
      "i= 8\n",
      "i= 9\n"
     ]
    }
   ],
   "source": [
    "#for i in [2,4,6,8,10]:\n",
    " #   print(\"i=\",i)\n",
    "# we can also use \n",
    "for i in range (10):\n",
    "    print(\"i=\",i)"
   ]
  },
  {
   "cell_type": "code",
   "execution_count": 40,
   "metadata": {
    "scrolled": true
   },
   "outputs": [
    {
     "name": "stdout",
     "output_type": "stream",
     "text": [
      "i= 1\n",
      "i= 2\n",
      "i= 3\n",
      "i= 4\n",
      "i= 5\n",
      "i= 6\n",
      "i= 7\n",
      "i= 8\n",
      "i= 9\n",
      "i= 10\n",
      "i= 11\n",
      "i= 12\n",
      "i= 13\n",
      "i= 14\n",
      "i= 15\n",
      "i= 16\n",
      "i= 17\n",
      "i= 18\n",
      "i= 19\n",
      "i= 20\n"
     ]
    }
   ],
   "source": [
    "for i in range (1,21):\n",
    "    print(\"i=\",i)"
   ]
  },
  {
   "cell_type": "code",
   "execution_count": 46,
   "metadata": {
    "collapsed": true
   },
   "outputs": [],
   "source": [
    "if ((i % 2)!=0):\n",
    "    print(\"i=\",i)"
   ]
  },
  {
   "cell_type": "code",
   "execution_count": 47,
   "metadata": {},
   "outputs": [
    {
     "name": "stdout",
     "output_type": "stream",
     "text": [
      "how much to invest: 100\n",
      "interest rate: 4\n"
     ]
    }
   ],
   "source": [
    "# example for floating point\n",
    "Money= input(\"how much to invest: \")\n",
    "interest_rate=input(\"interest rate: \")"
   ]
  },
  {
   "cell_type": "code",
   "execution_count": 50,
   "metadata": {
    "collapsed": true
   },
   "outputs": [],
   "source": [
    "Money = float (Money)"
   ]
  },
  {
   "cell_type": "code",
   "execution_count": 51,
   "metadata": {
    "collapsed": true
   },
   "outputs": [],
   "source": [
    "interest_rate=float(interest_rate)*.01"
   ]
  },
  {
   "cell_type": "code",
   "execution_count": 53,
   "metadata": {},
   "outputs": [
    {
     "name": "stdout",
     "output_type": "stream",
     "text": [
      "investment after 10 years: 148.02\n"
     ]
    }
   ],
   "source": [
    "for i in range(10):\n",
    "    Money=Money+(Money*interest_rate)\n",
    "print(\"investment after 10 years: {:.2f}\".format(Money))"
   ]
  },
  {
   "cell_type": "code",
   "execution_count": 2,
   "metadata": {
    "collapsed": true
   },
   "outputs": [],
   "source": [
    "import random"
   ]
  },
  {
   "cell_type": "code",
   "execution_count": 7,
   "metadata": {
    "collapsed": true
   },
   "outputs": [],
   "source": [
    "rand_num= random.randrange(1,51)"
   ]
  },
  {
   "cell_type": "code",
   "execution_count": 8,
   "metadata": {},
   "outputs": [
    {
     "name": "stdout",
     "output_type": "stream",
     "text": [
      "the random value is:  38\n"
     ]
    }
   ],
   "source": [
    "i=5\n",
    "while (i !=rand_num):\n",
    "    i +=1 \n",
    "    \n",
    "print(\"the random value is: \", rand_num)"
   ]
  },
  {
   "cell_type": "code",
   "execution_count": 9,
   "metadata": {},
   "outputs": [
    {
     "name": "stdout",
     "output_type": "stream",
     "text": [
      "Guess a number b/t 1 and 10: 8\n",
      "Guess a number b/t 1 and 10: 5\n",
      "Guess a number b/t 1 and 10: 7\n",
      "you guessed it\n"
     ]
    }
   ],
   "source": [
    "# Math Strings Exception Handling.\n",
    "secret_number=7\n",
    "\n",
    "while True :\n",
    "    guess=int(input(\"Guess a number b/t 1 and 10: \"))\n",
    "    \n",
    "    if guess==secret_number:\n",
    "        print(\"you guessed it\")\n",
    "\n",
    "        break"
   ]
  },
  {
   "cell_type": "code",
   "execution_count": 11,
   "metadata": {},
   "outputs": [
    {
     "name": "stdout",
     "output_type": "stream",
     "text": [
      "enter a string to hide in uppercase: HIDE\n",
      "sec_msg:  72736869\n"
     ]
    }
   ],
   "source": [
    "# New example.\n",
    "new_string= input(\"enter a string to hide in uppercase: \")\n",
    "\n",
    "sec_msg=\"\"\n",
    "\n",
    "for char in new_string:\n",
    "    sec_msg+=str(ord(char))\n",
    "    \n",
    "print(\"sec_msg: \", sec_msg)\n",
    "\n"
   ]
  },
  {
   "cell_type": "code",
   "execution_count": 21,
   "metadata": {},
   "outputs": [
    {
     "name": "stdout",
     "output_type": "stream",
     "text": [
      "My name is prem\n",
      "MY NAME IS PREM\n",
      "my name is prem\n"
     ]
    }
   ],
   "source": [
    "# String functions\n",
    "\n",
    "rand_string= \"     my name is prem    \"\n",
    "\n",
    "\n",
    "# strip function removes all the additional space in the string.\n",
    "rand_string=rand_string.strip()\n",
    "\n",
    "# capitalize only make the first letter in upper case\n",
    "print(rand_string.capitalize())\n",
    "\n",
    "print(rand_string.upper())\n",
    "\n",
    "print(rand_string.lower())"
   ]
  },
  {
   "cell_type": "code",
   "execution_count": 24,
   "metadata": {
    "scrolled": true
   },
   "outputs": [
    {
     "name": "stdout",
     "output_type": "stream",
     "text": [
      "ram is a man\n"
     ]
    }
   ],
   "source": [
    "# to join all seperate strings \n",
    "\n",
    "list_a=[\"ram\", \"is\",\"a\", \"man\"]\n",
    "\n",
    "print(\" \". join(list_a))"
   ]
  },
  {
   "cell_type": "code",
   "execution_count": 26,
   "metadata": {},
   "outputs": [
    {
     "name": "stdout",
     "output_type": "stream",
     "text": [
      "convert to Acronym: Ramd Onl Men\n",
      "ROM\n"
     ]
    }
   ],
   "source": [
    "acc_string= input(\"convert to Acronym: \")\n",
    "\n",
    "acc_string=acc_string.upper()\n",
    "\n",
    "words=acc_string.split()\n",
    "\n",
    "for word in words:\n",
    "    print(word[0], end =\"\")\n",
    "    \n",
    "print()\n",
    "\n",
    "\n",
    "\n"
   ]
  },
  {
   "cell_type": "code",
   "execution_count": 30,
   "metadata": {},
   "outputs": [
    {
     "ename": "IndentationError",
     "evalue": "expected an indented block (<ipython-input-30-67e5b0ec2662>, line 15)",
     "output_type": "error",
     "traceback": [
      "\u001b[1;36m  File \u001b[1;32m\"<ipython-input-30-67e5b0ec2662>\"\u001b[1;36m, line \u001b[1;32m15\u001b[0m\n\u001b[1;33m    if char_code> ord('Z'):\u001b[0m\n\u001b[1;37m                           ^\u001b[0m\n\u001b[1;31mIndentationError\u001b[0m\u001b[1;31m:\u001b[0m expected an indented block\n"
     ]
    }
   ],
   "source": [
    "msg=input(\"eneter the msg: \")\n",
    "    \n",
    "key=int(input(\"how many char should we shift (1-26)\"))\n",
    "\n",
    "sec_msg=\"\"\n",
    "\n",
    "for char in msg:\n",
    "    if char.isalpha():\n",
    "        \n",
    "        char_code=ord(char)\n",
    "        char_code+=key\n",
    "        \n",
    "    if char.isupper():\n",
    "    \n",
    "if char_code> ord('Z'):\n",
    "    char_code-=26\n",
    "        \n",
    "if char_code< ord('Z'):\n",
    "    char_code+=26\n",
    "    else:\n",
    "        if char_code>ord('z'):\n",
    "            char_code-=26\n",
    "        if char_code <ord('a'):\n",
    "            char_code+=26\n",
    "    \n",
    "secert_msg+=char(char_code)\n",
    "    else:\n",
    "        secert_msg+=char\n",
    "print(\"Encrypted: \", secert_msg)\n",
    "\n",
    "key=-key\n",
    "\n",
    "orig_msg=\"\""
   ]
  },
  {
   "cell_type": "code",
   "execution_count": 31,
   "metadata": {},
   "outputs": [
    {
     "name": "stdout",
     "output_type": "stream",
     "text": [
      "5+4= 9\n"
     ]
    }
   ],
   "source": [
    "def add_number(num1,num2):\n",
    "    return num1+num2\n",
    "\n",
    "print(\"5+4=\", add_number(5,4))"
   ]
  },
  {
   "cell_type": "code",
   "execution_count": null,
   "metadata": {
    "collapsed": true
   },
   "outputs": [],
   "source": []
  }
 ],
 "metadata": {
  "kernelspec": {
   "display_name": "Python 3",
   "language": "python",
   "name": "python3"
  },
  "language_info": {
   "codemirror_mode": {
    "name": "ipython",
    "version": 3
   },
   "file_extension": ".py",
   "mimetype": "text/x-python",
   "name": "python",
   "nbconvert_exporter": "python",
   "pygments_lexer": "ipython3",
   "version": "3.6.1"
  }
 },
 "nbformat": 4,
 "nbformat_minor": 2
}
